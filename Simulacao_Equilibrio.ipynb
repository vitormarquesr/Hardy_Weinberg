{
 "cells": [
  {
   "cell_type": "markdown",
   "id": "e3e96397",
   "metadata": {},
   "source": [
    "# Simulação princípio de Hardy-Weinberg\n"
   ]
  },
  {
   "cell_type": "markdown",
   "id": "cfb6050b",
   "metadata": {},
   "source": [
    "Tomei conhecimento desse princípio quando foi citado no livro \"História Bizarra da Matemática\" da autora Luciana Galastri.\n",
    "\n",
    "Pesquisei a teoria no livro \"Biologia de Campbell\" 8a Edição, capítulo 23 \"Evolução das Populações\", seção 23.2 \"A equação de Hardy-Weinberg pode ser usada para testar se a população está evoluindo\""
   ]
  },
  {
   "cell_type": "markdown",
   "id": "1e250576",
   "metadata": {},
   "source": [
    "## 1 - Importanto os pacotes necessários"
   ]
  },
  {
   "cell_type": "code",
   "execution_count": 2,
   "id": "ba400d91",
   "metadata": {},
   "outputs": [],
   "source": [
    "%matplotlib inline\n",
    "import pandas as pd\n",
    "import numpy as np\n",
    "import seaborn as sns\n",
    "import matplotlib.pyplot as plt"
   ]
  },
  {
   "cell_type": "markdown",
   "id": "6cd80a87",
   "metadata": {},
   "source": [
    "## 2 - Embasamento teórico\n",
    "\n",
    "Para uma população evoluir, não basta apenas existir variação genética na população, também é necessário a atuação de outros fatores. O princípio de Hardy-Weinberg nos ajuda a testar se uma população está evoluindo.\n",
    "\n",
    "### População:\n",
    "Definindo **população** como um grupo de indivíduos da mesma espécie que vive na mesma área e cruza, produzindo descendentes férteis.\n",
    "\n",
    "### Delimitação do problema:\n",
    "Vamos analisar um específico *locus* dos indivíduos que possuirá dois alelos **A**(dominante) e **a**(recessivo). Logo podemos ter indivíduos:\n",
    "\n",
    "* 1 - Homozigoto dominante - AA\n",
    "* 2 - Heterozigoto - Aa\n",
    "* 3 - Homozigoto recessivo - aa\n",
    "\n",
    "Vamos definir algumas variáveis:\n",
    "\n",
    "* a = Número de indivíduos AA (1)\n",
    "* b = Número de indivíduos Aa (2)\n",
    "* c = Número de indivíduos aa (3)\n",
    "  \n",
    "  \n",
    "* t = Número total de alelos = 2(a + b + c)\n",
    "* p = Proporção de alelos **A** = (2a + b)/t\n",
    "* q = Proporção de alelos **a** = 1 - p = (2c + b)/t\n",
    "\n",
    "### Princípio de Hardy-Weinberg\n",
    "Esse princípio nos diz que em uma população que não está evoluindo, as proporções de alelos e genótipos permanecem constantes de geração para geração. Essa população estaria em equilíbrio de Hardy-Weinberg.\n",
    "\n",
    "Quando está nesse equilíbrio, as proporções de cada genótipo devem ser aproximadamente as seguintes:\n",
    "* AA - p<sup>2</sup>\n",
    "* Aa - 2pq\n",
    "* aa - q<sup>2</sup>\n",
    "\n",
    "Logo, se uma população não segue essas proporções ela não está em equilíbrio de Hardy-Weinberg.\n",
    "\n",
    "#### Condições para o equilíbrio de Hardy-Weinberg\n",
    "A população descrita pelo princípio de Hardy-Weinberg é hipotética. Em casos reais, a proporção de alelos e genótipos normalmente muda. Isso pode acontecer quando um dos princípios a seguir é quebrado.\n",
    "\n",
    "1. Ausência de Mutação\n",
    "2. Cruzamento ao Acaso\n",
    "3. Ausência de Seleção Natural\n",
    "4. Tamanho populacional muito grande\n",
    "5. Ausência de Fluxo Gênico"
   ]
  },
  {
   "cell_type": "markdown",
   "id": "88a92eb3",
   "metadata": {},
   "source": [
    "## 3 - Simulação\n",
    "Vamos agora simular uma população com indivíduos de diferentes genótipos que irão se reproduzir. Analisaremos a proporção de cada genótipo ao longo das gerações. Vamos assumir algumas hipóteses simplificadoras:\n",
    "\n",
    "* Os indivíduos de uma geração só poderão se reproduzir entre eles e apenas os descendentes destes formarão a próxima geração.\n",
    "* O tamanho de cada geração será fixo\n",
    "* Não há distinção entre macho e fêmea. Qualquer dupla de indivíduos têm o potencial reprodutivo\n",
    "\n",
    "Vamos abordar casos diferentes e simular cada um."
   ]
  },
  {
   "cell_type": "markdown",
   "id": "1475f9ec",
   "metadata": {},
   "source": [
    "### 3.1 - Caso 1: Todas as condições para o equilíbrio de Hardy-Weinberg são satisfeitas\n",
    "Vamos portanto pegar uma população grande que se cruzará ao acaso e não haverá mutação, seleção natural ou fluxo gênico."
   ]
  },
  {
   "cell_type": "code",
   "execution_count": 3,
   "id": "115a9447",
   "metadata": {},
   "outputs": [],
   "source": [
    "a = 1200\n",
    "b = 1000\n",
    "c = 2000\n",
    "\n",
    "t = 2*(a + b + c)\n",
    "\n",
    "p = (2*a + b)/t\n",
    "\n",
    "q = (2*c + b)/t\n"
   ]
  },
  {
   "cell_type": "code",
   "execution_count": 4,
   "id": "313c833b",
   "metadata": {},
   "outputs": [],
   "source": [
    "caso1 = pd.DataFrame([1]*a+[2]*b + [3]*c, index=range(1, (a+b+c)+1), columns=[1])\n",
    "caso1.index.name = \"Id\"\n",
    "caso1.columns.name = \"Geração\""
   ]
  },
  {
   "cell_type": "code",
   "execution_count": 5,
   "id": "6dc163f4",
   "metadata": {},
   "outputs": [
    {
     "data": {
      "text/html": [
       "<div>\n",
       "<style scoped>\n",
       "    .dataframe tbody tr th:only-of-type {\n",
       "        vertical-align: middle;\n",
       "    }\n",
       "\n",
       "    .dataframe tbody tr th {\n",
       "        vertical-align: top;\n",
       "    }\n",
       "\n",
       "    .dataframe thead th {\n",
       "        text-align: right;\n",
       "    }\n",
       "</style>\n",
       "<table border=\"1\" class=\"dataframe\">\n",
       "  <thead>\n",
       "    <tr style=\"text-align: right;\">\n",
       "      <th>Id</th>\n",
       "      <th>1</th>\n",
       "      <th>2</th>\n",
       "      <th>3</th>\n",
       "      <th>4</th>\n",
       "      <th>5</th>\n",
       "      <th>6</th>\n",
       "      <th>7</th>\n",
       "      <th>8</th>\n",
       "      <th>9</th>\n",
       "      <th>10</th>\n",
       "      <th>...</th>\n",
       "      <th>4191</th>\n",
       "      <th>4192</th>\n",
       "      <th>4193</th>\n",
       "      <th>4194</th>\n",
       "      <th>4195</th>\n",
       "      <th>4196</th>\n",
       "      <th>4197</th>\n",
       "      <th>4198</th>\n",
       "      <th>4199</th>\n",
       "      <th>4200</th>\n",
       "    </tr>\n",
       "    <tr>\n",
       "      <th>Geração</th>\n",
       "      <th></th>\n",
       "      <th></th>\n",
       "      <th></th>\n",
       "      <th></th>\n",
       "      <th></th>\n",
       "      <th></th>\n",
       "      <th></th>\n",
       "      <th></th>\n",
       "      <th></th>\n",
       "      <th></th>\n",
       "      <th></th>\n",
       "      <th></th>\n",
       "      <th></th>\n",
       "      <th></th>\n",
       "      <th></th>\n",
       "      <th></th>\n",
       "      <th></th>\n",
       "      <th></th>\n",
       "      <th></th>\n",
       "      <th></th>\n",
       "      <th></th>\n",
       "    </tr>\n",
       "  </thead>\n",
       "  <tbody>\n",
       "    <tr>\n",
       "      <th>1</th>\n",
       "      <td>1</td>\n",
       "      <td>1</td>\n",
       "      <td>1</td>\n",
       "      <td>1</td>\n",
       "      <td>1</td>\n",
       "      <td>1</td>\n",
       "      <td>1</td>\n",
       "      <td>1</td>\n",
       "      <td>1</td>\n",
       "      <td>1</td>\n",
       "      <td>...</td>\n",
       "      <td>3</td>\n",
       "      <td>3</td>\n",
       "      <td>3</td>\n",
       "      <td>3</td>\n",
       "      <td>3</td>\n",
       "      <td>3</td>\n",
       "      <td>3</td>\n",
       "      <td>3</td>\n",
       "      <td>3</td>\n",
       "      <td>3</td>\n",
       "    </tr>\n",
       "  </tbody>\n",
       "</table>\n",
       "<p>1 rows × 4200 columns</p>\n",
       "</div>"
      ],
      "text/plain": [
       "Id       1     2     3     4     5     6     7     8     9     10    ...  \\\n",
       "Geração                                                              ...   \n",
       "1           1     1     1     1     1     1     1     1     1     1  ...   \n",
       "\n",
       "Id       4191  4192  4193  4194  4195  4196  4197  4198  4199  4200  \n",
       "Geração                                                              \n",
       "1           3     3     3     3     3     3     3     3     3     3  \n",
       "\n",
       "[1 rows x 4200 columns]"
      ]
     },
     "execution_count": 5,
     "metadata": {},
     "output_type": "execute_result"
    }
   ],
   "source": [
    "caso1.T"
   ]
  },
  {
   "cell_type": "markdown",
   "id": "38fc550b",
   "metadata": {},
   "source": [
    "Pode-se observar uma população com 4200 indivíduos: 1200 AA, 1000 Aa e 2000 aa"
   ]
  },
  {
   "cell_type": "markdown",
   "id": "b29431aa",
   "metadata": {},
   "source": [
    "Vamos criar agora uma função que fará indivíduos de uma geração reproduzir e gerar descendentes, vamos fazer de forma que o tamanho da população permaneça o mesmo. Só os descendentes do cruzamento comporão a próxima geração.\n",
    "\n",
    "A função **mate** gerará um descendente com genótipo de acordo com o quadro de Punnett\n",
    "\n",
    "A função **offspring** reproduzirá os indivíduos de uma geração obtendo a próxima. A reprodução ocorre escolhendo vários casais aleatoriamente e passando pela função **mate**"
   ]
  },
  {
   "cell_type": "code",
   "execution_count": 6,
   "id": "0af7dda4",
   "metadata": {},
   "outputs": [],
   "source": [
    "def mate(casal):\n",
    "    if casal == [1,2]:\n",
    "        poss = [1, 1, 2, 2]\n",
    "    elif casal == [1,3]:\n",
    "        poss = [2, 2, 2, 2]\n",
    "    elif casal == [2, 3]:\n",
    "        poss = [2, 2, 3, 3]\n",
    "    elif casal == [1,1]:\n",
    "        poss = [1, 1, 1, 1]\n",
    "    elif casal == [2,2]:\n",
    "        poss = [1, 2, 2, 3]\n",
    "    elif casal == [3,3]:\n",
    "        poss = [3, 3, 3, 3]\n",
    "    \n",
    "    return int(np.random.choice(poss))\n",
    "        "
   ]
  },
  {
   "cell_type": "code",
   "execution_count": 7,
   "id": "a67bb741",
   "metadata": {},
   "outputs": [],
   "source": [
    "def offspring(pop, n_ger):\n",
    "    #Última geração\n",
    "    ult = pop.iloc[:, -1].copy()\n",
    "    #Número da geração\n",
    "    n = int(ult.name)\n",
    "    if n == n_ger:\n",
    "        return pop\n",
    "    \n",
    "    nova_gen = [mate(sorted(np.random.choice(ult, size=2, replace=False))) \n",
    "                for i in range(ult.shape[0])]\n",
    "    pop[str(n+1)] = nova_gen\n",
    "    return offspring(pop, n_ger)\n",
    "    \n",
    "    "
   ]
  },
  {
   "cell_type": "code",
   "execution_count": 8,
   "id": "51bd4972",
   "metadata": {},
   "outputs": [],
   "source": [
    "caso1 = offspring(caso1.copy(), 20)"
   ]
  },
  {
   "cell_type": "code",
   "execution_count": 9,
   "id": "82350d6c",
   "metadata": {},
   "outputs": [],
   "source": [
    "def freq(ser):\n",
    "    return [100*list(ser).count(1)/len(ser), 100*list(ser).count(2)/len(ser), \n",
    "            100*list(ser).count(3)/len(ser)]"
   ]
  },
  {
   "cell_type": "code",
   "execution_count": 10,
   "id": "89c60733",
   "metadata": {},
   "outputs": [],
   "source": [
    "freq_caso1 = caso1.apply(freq, axis=0)\n",
    "freq_caso1.index = [\"AA\",\"Aa\",\"aa\"]"
   ]
  },
  {
   "cell_type": "code",
   "execution_count": 11,
   "id": "3f991e19",
   "metadata": {},
   "outputs": [
    {
     "data": {
      "text/html": [
       "<div>\n",
       "<style scoped>\n",
       "    .dataframe tbody tr th:only-of-type {\n",
       "        vertical-align: middle;\n",
       "    }\n",
       "\n",
       "    .dataframe tbody tr th {\n",
       "        vertical-align: top;\n",
       "    }\n",
       "\n",
       "    .dataframe thead th {\n",
       "        text-align: right;\n",
       "    }\n",
       "</style>\n",
       "<table border=\"1\" class=\"dataframe\">\n",
       "  <thead>\n",
       "    <tr style=\"text-align: right;\">\n",
       "      <th>Geração</th>\n",
       "      <th>1</th>\n",
       "      <th>2</th>\n",
       "      <th>3</th>\n",
       "      <th>4</th>\n",
       "      <th>5</th>\n",
       "      <th>6</th>\n",
       "      <th>7</th>\n",
       "      <th>8</th>\n",
       "      <th>9</th>\n",
       "      <th>10</th>\n",
       "      <th>11</th>\n",
       "      <th>12</th>\n",
       "      <th>13</th>\n",
       "      <th>14</th>\n",
       "      <th>15</th>\n",
       "      <th>16</th>\n",
       "      <th>17</th>\n",
       "      <th>18</th>\n",
       "      <th>19</th>\n",
       "      <th>20</th>\n",
       "    </tr>\n",
       "  </thead>\n",
       "  <tbody>\n",
       "    <tr>\n",
       "      <th>AA</th>\n",
       "      <td>28.57</td>\n",
       "      <td>16.07</td>\n",
       "      <td>16.69</td>\n",
       "      <td>15.33</td>\n",
       "      <td>16.21</td>\n",
       "      <td>15.33</td>\n",
       "      <td>14.38</td>\n",
       "      <td>15.52</td>\n",
       "      <td>15.40</td>\n",
       "      <td>16.02</td>\n",
       "      <td>16.55</td>\n",
       "      <td>15.36</td>\n",
       "      <td>15.69</td>\n",
       "      <td>16.93</td>\n",
       "      <td>15.00</td>\n",
       "      <td>16.31</td>\n",
       "      <td>15.57</td>\n",
       "      <td>15.55</td>\n",
       "      <td>15.55</td>\n",
       "      <td>15.36</td>\n",
       "    </tr>\n",
       "    <tr>\n",
       "      <th>Aa</th>\n",
       "      <td>23.81</td>\n",
       "      <td>47.88</td>\n",
       "      <td>46.67</td>\n",
       "      <td>48.60</td>\n",
       "      <td>47.95</td>\n",
       "      <td>47.29</td>\n",
       "      <td>47.93</td>\n",
       "      <td>47.86</td>\n",
       "      <td>48.98</td>\n",
       "      <td>48.43</td>\n",
       "      <td>47.69</td>\n",
       "      <td>48.26</td>\n",
       "      <td>48.67</td>\n",
       "      <td>47.60</td>\n",
       "      <td>49.60</td>\n",
       "      <td>47.29</td>\n",
       "      <td>49.76</td>\n",
       "      <td>47.71</td>\n",
       "      <td>47.79</td>\n",
       "      <td>47.62</td>\n",
       "    </tr>\n",
       "    <tr>\n",
       "      <th>aa</th>\n",
       "      <td>47.62</td>\n",
       "      <td>36.05</td>\n",
       "      <td>36.64</td>\n",
       "      <td>36.07</td>\n",
       "      <td>35.83</td>\n",
       "      <td>37.38</td>\n",
       "      <td>37.69</td>\n",
       "      <td>36.62</td>\n",
       "      <td>35.62</td>\n",
       "      <td>35.55</td>\n",
       "      <td>35.76</td>\n",
       "      <td>36.38</td>\n",
       "      <td>35.64</td>\n",
       "      <td>35.48</td>\n",
       "      <td>35.40</td>\n",
       "      <td>36.40</td>\n",
       "      <td>34.67</td>\n",
       "      <td>36.74</td>\n",
       "      <td>36.67</td>\n",
       "      <td>37.02</td>\n",
       "    </tr>\n",
       "  </tbody>\n",
       "</table>\n",
       "</div>"
      ],
      "text/plain": [
       "Geração      1      2      3      4      5      6      7      8      9     10  \\\n",
       "AA       28.57  16.07  16.69  15.33  16.21  15.33  14.38  15.52  15.40  16.02   \n",
       "Aa       23.81  47.88  46.67  48.60  47.95  47.29  47.93  47.86  48.98  48.43   \n",
       "aa       47.62  36.05  36.64  36.07  35.83  37.38  37.69  36.62  35.62  35.55   \n",
       "\n",
       "Geração     11     12     13     14     15     16     17     18     19     20  \n",
       "AA       16.55  15.36  15.69  16.93  15.00  16.31  15.57  15.55  15.55  15.36  \n",
       "Aa       47.69  48.26  48.67  47.60  49.60  47.29  49.76  47.71  47.79  47.62  \n",
       "aa       35.76  36.38  35.64  35.48  35.40  36.40  34.67  36.74  36.67  37.02  "
      ]
     },
     "execution_count": 11,
     "metadata": {},
     "output_type": "execute_result"
    }
   ],
   "source": [
    "freq_caso1.applymap(lambda x: \"{:.2f}\".format(x))"
   ]
  },
  {
   "cell_type": "markdown",
   "id": "346ce632",
   "metadata": {},
   "source": [
    "Podemos observar a proporção de cada genótipo ao longo das gerações, as proporções parecem estáveis. Vamos investigar isso mais a fundo com um gráfico."
   ]
  },
  {
   "cell_type": "code",
   "execution_count": 12,
   "id": "c46bc838",
   "metadata": {},
   "outputs": [],
   "source": [
    "df_caso1 = freq_caso1.T.reset_index().melt(id_vars=[\"Geração\"], value_vars=[\"AA\",\"Aa\",\"aa\"], var_name=\"Genótipo\",\n",
    "                            value_name=\"Proporção\")"
   ]
  },
  {
   "cell_type": "code",
   "execution_count": 32,
   "id": "e00cecfb",
   "metadata": {},
   "outputs": [
    {
     "data": {
      "image/png": "[encoded data removed]",
      "text/plain": [
       "<Figure size 720x720 with 1 Axes>"
      ]
     },
     "metadata": {
      "needs_background": "light"
     },
     "output_type": "display_data"
    }
   ],
   "source": [
    "fig = plt.figure(figsize=(10,10))\n",
    "axe = fig.add_subplot(1,1,1)\n",
    "\n",
    "\n",
    "sns.scatterplot(x=\"Geração\", y=\"Proporção\", hue=\"Genótipo\", data=df_caso1, ax=axe, legend=False,\n",
    "               hue_order=[\"Aa\",\"aa\",\"AA\"])\n",
    "sns.lineplot(x=\"Geração\", y=\"Proporção\", hue=\"Genótipo\", data=df_caso1, ax=axe, legend=True,\n",
    "            hue_order=[\"Aa\",\"aa\",\"AA\"])\n",
    "axe.set_xticks(range(1,21))\n",
    "\n",
    "sns.lineplot(x=range(1,21),y=(p**2)*100, ax=axe, color=\"black\", linestyle=\"dashed\")\n",
    "sns.lineplot(x=range(1,21),y=(q**2)*100, ax=axe, color=\"black\", linestyle=\"dashed\")\n",
    "sns.lineplot(x=range(1,21), y=(2*p*q)*100, ax=axe, color=\"black\", linestyle=\"dashed\")\n",
    "axe.set_ybound([0, 55])"
   ]
  },
  {
   "cell_type": "markdown",
   "id": "216c4d1a",
   "metadata": {},
   "source": [
    "Podemos observar que as proporções observadas para os genótipos estão bem próximas das esperadas (As linhas pontilhadas) e a proporção é aproximadamente igual de geração para geração. Isso acontece, pois a população está em equilíbrio de Hardy-Weinberg por não termos violado nenhuma das condições para tal. As proporções seriam mais estáveis ainda se tomassemos uma população maior, porém isso é inviável, pois o programa ficaria muito lento."
   ]
  },
  {
   "cell_type": "markdown",
   "id": "10dc5657",
   "metadata": {},
   "source": [
    "### 3.2 - Caso 2: A população é pequena\n",
    "Tomando uma população pequena violamos um dos princípios para o equilíbrio de Hardy-Weinberg. Vamos observar como a proporção dos genótipos se comporta ao longo das gerações nesse caso. Vou tomar uma população com as mesmas proporções iniciais do outro caso, porém menor em tamanho."
   ]
  },
  {
   "cell_type": "code",
   "execution_count": 29,
   "id": "a97a51e0",
   "metadata": {},
   "outputs": [],
   "source": [
    "a = 120\n",
    "b = 100\n",
    "c = 200\n",
    "\n",
    "t = 2*(a + b + c)\n",
    "\n",
    "p = (2*a + b)/t\n",
    "\n",
    "q = (2*c + b)/t\n",
    "\n",
    "caso2 = pd.DataFrame([1]*a+[2]*b + [3]*c, index=range(1, (a+b+c)+1), columns=[1])\n",
    "caso2.index.name = \"Id\"\n",
    "caso2.columns.name = \"Geração\"\n",
    "\n",
    "caso2 = offspring(caso2.copy(), 20)\n",
    "freq_caso2 = caso2.apply(freq, axis=0)\n",
    "freq_caso2.index = [\"AA\",\"Aa\",\"aa\"]\n",
    "df_caso2 = freq_caso2.T.reset_index().melt(id_vars=[\"Geração\"], value_vars=[\"AA\",\"Aa\",\"aa\"], var_name=\"Genótipo\",\n",
    "                            value_name=\"Proporção\")\n"
   ]
  },
  {
   "cell_type": "code",
   "execution_count": 31,
   "id": "fddf354a",
   "metadata": {},
   "outputs": [
    {
     "data": {
      "image/png": "[encoded data removed]",
      "text/plain": [
       "<Figure size 720x720 with 1 Axes>"
      ]
     },
     "metadata": {
      "needs_background": "light"
     },
     "output_type": "display_data"
    }
   ],
   "source": [
    "fig = plt.figure(figsize=(10,10))\n",
    "axe = fig.add_subplot(1,1,1)\n",
    "\n",
    "sns.scatterplot(x=\"Geração\", y=\"Proporção\", hue=\"Genótipo\", data=df_caso2, ax=axe, legend=False,\n",
    "               hue_order=[\"Aa\",\"aa\",\"AA\"])\n",
    "sns.lineplot(x=\"Geração\", y=\"Proporção\", hue=\"Genótipo\", data=df_caso2, ax=axe, legend=True,\n",
    "            hue_order=[\"Aa\",\"aa\",\"AA\"])\n",
    "axe.set_xticks(range(1,21))\n",
    "\n",
    "sns.lineplot(x=range(1,21),y=(p**2)*100, ax=axe, color=\"black\", linestyle=\"dashed\")\n",
    "sns.lineplot(x=range(1,21),y=(q**2)*100, ax=axe, color=\"black\", linestyle=\"dashed\")\n",
    "sns.lineplot(x=range(1,21), y=(2*p*q)*100, ax=axe, color=\"black\", linestyle=\"dashed\")\n",
    "\n",
    "axe.set_ybound([0, 55])"
   ]
  },
  {
   "cell_type": "markdown",
   "id": "99c21c5f",
   "metadata": {},
   "source": [
    "A população deste caso possui 420 indivíduos. Como é uma população pequena, ela está mais sujeita ao efeito do aleatório, causando flutuações imprevistas na proporção dos genótipos ao longo das gerações. Tal situação é chamada de **deriva genética**. Por esse motivo, esta população não está em equilíbrio de Hardy-Weinberg."
   ]
  }
 ],
 "metadata": {
  "kernelspec": {
   "display_name": "Python 3 (ipykernel)",
   "language": "python",
   "name": "python3"
  },
  "language_info": {
   "codemirror_mode": {
    "name": "ipython",
    "version": 3
   },
   "file_extension": ".py",
   "mimetype": "text/x-python",
   "name": "python",
   "nbconvert_exporter": "python",
   "pygments_lexer": "ipython3",
   "version": "3.9.7"
  }
 },
 "nbformat": 4,
 "nbformat_minor": 5
}
